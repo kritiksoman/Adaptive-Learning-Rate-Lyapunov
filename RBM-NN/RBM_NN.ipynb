{
  "nbformat": 4,
  "nbformat_minor": 0,
  "metadata": {
    "colab": {
      "name": "RBM_NN.ipynb",
      "version": "0.3.2",
      "provenance": [],
      "toc_visible": true
    },
    "kernelspec": {
      "name": "python3",
      "display_name": "Python 3"
    },
    "accelerator": "GPU"
  },
  "cells": [
    {
      "cell_type": "markdown",
      "metadata": {
        "id": "_BA-ax1HsbtI",
        "colab_type": "text"
      },
      "source": [
        "# **2 Layer Neural Network**\n",
        "\n",
        "1. Weights initialized using contrastive divergence.\n",
        "2. Fine tuning using back propagation."
      ]
    },
    {
      "cell_type": "code",
      "metadata": {
        "id": "6TaFnEDHthvR",
        "colab_type": "code",
        "outputId": "eb0e1a5c-6734-4eaf-e4f7-8945a73abfbf",
        "colab": {
          "base_uri": "https://localhost:8080/",
          "height": 139
        }
      },
      "source": [
        "from google.colab import drive\n",
        "drive.mount('/content/gdrive')\n",
        "%cd gdrive/My\\ Drive/Colab\\ Notebooks/\n"
      ],
      "execution_count": 0,
      "outputs": [
        {
          "output_type": "stream",
          "text": [
            "Go to this URL in a browser: https://accounts.google.com/o/oauth2/auth?client_id=947318989803-6bn6qk8qdgf4n4g3pfee6491hc0brc4i.apps.googleusercontent.com&redirect_uri=urn%3Aietf%3Awg%3Aoauth%3A2.0%3Aoob&scope=email%20https%3A%2F%2Fwww.googleapis.com%2Fauth%2Fdocs.test%20https%3A%2F%2Fwww.googleapis.com%2Fauth%2Fdrive%20https%3A%2F%2Fwww.googleapis.com%2Fauth%2Fdrive.photos.readonly%20https%3A%2F%2Fwww.googleapis.com%2Fauth%2Fpeopleapi.readonly&response_type=code\n",
            "\n",
            "Enter your authorization code:\n",
            "··········\n",
            "Mounted at /content/gdrive\n",
            "/content/gdrive/My Drive/Colab Notebooks\n"
          ],
          "name": "stdout"
        }
      ]
    },
    {
      "cell_type": "code",
      "metadata": {
        "id": "gnAUiatduGiL",
        "colab_type": "code",
        "colab": {}
      },
      "source": [
        "#import libraries\n",
        "import numpy as np\n",
        "from sklearn.linear_model import LogisticRegression\n",
        "import torch\n",
        "import torchvision.datasets\n",
        "import torchvision.models\n",
        "import torchvision.transforms\n",
        "CUDA = torch.cuda.is_available()\n",
        "CUDA_DEVICE = 0\n",
        "if CUDA:\n",
        "    torch.cuda.set_device(CUDA_DEVICE)"
      ],
      "execution_count": 0,
      "outputs": []
    },
    {
      "cell_type": "markdown",
      "metadata": {
        "id": "MxPS1NmfVTwH",
        "colab_type": "text"
      },
      "source": [
        "## **Model**"
      ]
    },
    {
      "cell_type": "code",
      "metadata": {
        "id": "395H_I18sfnM",
        "colab_type": "code",
        "colab": {}
      },
      "source": [
        "import torch\n",
        "class RBM():\n",
        "    def __init__(self, num_visible, num_hidden, k, learning_rate=1e-3, momentum_coefficient=0.5, weight_decay=1e-4, use_cuda=True):\n",
        "        self.num_visible = num_visible\n",
        "        self.num_hidden = num_hidden\n",
        "        self.k = k\n",
        "        self.learning_rate = learning_rate\n",
        "        self.momentum_coefficient = momentum_coefficient\n",
        "        self.weight_decay = weight_decay\n",
        "        self.use_cuda = use_cuda\n",
        "\n",
        "        self.weights = torch.randn(num_visible, num_hidden) * 0.1\n",
        "        self.visible_bias = torch.ones(num_visible) * 0.5\n",
        "        self.hidden_bias = torch.zeros(num_hidden)\n",
        "\n",
        "        self.weights_momentum = torch.zeros(num_visible, num_hidden)\n",
        "        self.visible_bias_momentum = torch.zeros(num_visible)\n",
        "        self.hidden_bias_momentum = torch.zeros(num_hidden)\n",
        "\n",
        "        if self.use_cuda:\n",
        "            self.weights = self.weights.cuda()\n",
        "            self.visible_bias = self.visible_bias.cuda()\n",
        "            self.hidden_bias = self.hidden_bias.cuda()\n",
        "\n",
        "            self.weights_momentum = self.weights_momentum.cuda()\n",
        "            self.visible_bias_momentum = self.visible_bias_momentum.cuda()\n",
        "            self.hidden_bias_momentum = self.hidden_bias_momentum.cuda()\n",
        "\n",
        "    def sample_hidden(self, visible_probabilities):\n",
        "        hidden_activations = torch.matmul(visible_probabilities, self.weights) + self.hidden_bias\n",
        "        hidden_probabilities = self._sigmoid(hidden_activations)\n",
        "        return hidden_probabilities\n",
        "\n",
        "    def sample_visible(self, hidden_probabilities):\n",
        "        visible_activations = torch.matmul(hidden_probabilities, self.weights.t()) + self.visible_bias\n",
        "        visible_probabilities = self._sigmoid(visible_activations)\n",
        "        return visible_probabilities\n",
        "\n",
        "    def contrastive_divergence(self, input_data):\n",
        "        # Positive phase\n",
        "        positive_hidden_probabilities = self.sample_hidden(input_data)\n",
        "        positive_hidden_activations = (positive_hidden_probabilities >= self._random_probabilities(self.num_hidden)).float()\n",
        "        positive_associations = torch.matmul(input_data.t(), positive_hidden_activations)\n",
        "\n",
        "        # Negative phase\n",
        "        hidden_activations = positive_hidden_activations\n",
        "\n",
        "        for step in range(self.k):\n",
        "            visible_probabilities = self.sample_visible(hidden_activations)\n",
        "            hidden_probabilities = self.sample_hidden(visible_probabilities)\n",
        "            hidden_activations = (hidden_probabilities >= self._random_probabilities(self.num_hidden)).float()\n",
        "\n",
        "        negative_visible_probabilities = visible_probabilities\n",
        "        negative_hidden_probabilities = hidden_probabilities\n",
        "\n",
        "        negative_associations = torch.matmul(negative_visible_probabilities.t(), negative_hidden_probabilities)\n",
        "\n",
        "        # Update parameters\n",
        "        self.weights_momentum *= self.momentum_coefficient\n",
        "        self.weights_momentum += (positive_associations - negative_associations)\n",
        "\n",
        "        self.visible_bias_momentum *= self.momentum_coefficient\n",
        "        self.visible_bias_momentum += torch.sum(input_data - negative_visible_probabilities, dim=0)\n",
        "\n",
        "        self.hidden_bias_momentum *= self.momentum_coefficient\n",
        "        self.hidden_bias_momentum += torch.sum(positive_hidden_probabilities - negative_hidden_probabilities, dim=0)\n",
        "\n",
        "        batch_size = input_data.size(0)\n",
        "\n",
        "        self.weights += self.weights_momentum * self.learning_rate / batch_size\n",
        "        self.visible_bias += self.visible_bias_momentum * self.learning_rate / batch_size\n",
        "        self.hidden_bias += self.hidden_bias_momentum * self.learning_rate / batch_size\n",
        "\n",
        "        self.weights -= self.weights * self.weight_decay  # L2 weight decay\n",
        "\n",
        "        # Compute reconstruction error\n",
        "        error = torch.sum((input_data - negative_visible_probabilities)**2)\n",
        "\n",
        "        return error\n",
        "\n",
        "    def _sigmoid(self, x):\n",
        "        return 1 / (1 + torch.exp(-x))\n",
        "\n",
        "    def _random_probabilities(self, num):\n",
        "        random_probabilities = torch.rand(num)\n",
        "\n",
        "        if self.use_cuda:\n",
        "            random_probabilities = random_probabilities.cuda()\n",
        "\n",
        "        return random_probabilities\n"
      ],
      "execution_count": 0,
      "outputs": []
    },
    {
      "cell_type": "code",
      "metadata": {
        "id": "MJS9HrG0HBka",
        "colab_type": "code",
        "colab": {}
      },
      "source": [
        "def train_rbm(EPOCHS,train_loader,rbm,VISIBLE_UNITS):\n",
        "  for epoch in range(EPOCHS):\n",
        "      epoch_error = 0.0\n",
        "      for batch, _ in train_loader:\n",
        "          batch = batch.view(len(batch), VISIBLE_UNITS)  # flatten input data\n",
        "          if CUDA:\n",
        "              batch = batch.cuda()\n",
        "          batch_error = rbm.contrastive_divergence(batch)\n",
        "          epoch_error += batch_error\n",
        "\n",
        "      print('Epoch Error (epoch=%d): %.4f' % (epoch, epoch_error))"
      ],
      "execution_count": 0,
      "outputs": []
    },
    {
      "cell_type": "markdown",
      "metadata": {
        "id": "HWiKgJjyqf82",
        "colab_type": "text"
      },
      "source": [
        "## **Load dataset**"
      ]
    },
    {
      "cell_type": "code",
      "metadata": {
        "id": "Lw0frDk8si2S",
        "colab_type": "code",
        "outputId": "24d3bc4d-89fa-4337-9b7d-9594f4faeeea",
        "colab": {
          "base_uri": "https://localhost:8080/",
          "height": 34
        }
      },
      "source": [
        "########## LOADING DATASET ##########\n",
        "# from rbm import RBM\n",
        "DATA_FOLDER = 'data/mnist'\n",
        "print('Loading dataset...')\n",
        "BATCH_SIZE = 300\n",
        "train_dataset = torchvision.datasets.MNIST(root=DATA_FOLDER, train=True, transform=torchvision.transforms.ToTensor(), download=True)\n",
        "train_loader = torch.utils.data.DataLoader(train_dataset, batch_size=BATCH_SIZE)\n",
        "\n",
        "test_dataset = torchvision.datasets.MNIST(root=DATA_FOLDER, train=False, transform=torchvision.transforms.ToTensor(), download=True)\n",
        "test_loader = torch.utils.data.DataLoader(test_dataset, batch_size=BATCH_SIZE)\n"
      ],
      "execution_count": 0,
      "outputs": [
        {
          "output_type": "stream",
          "text": [
            "Loading dataset...\n"
          ],
          "name": "stdout"
        }
      ]
    },
    {
      "cell_type": "markdown",
      "metadata": {
        "id": "w530IxbWqo7K",
        "colab_type": "text"
      },
      "source": [
        "## **Train**\n"
      ]
    },
    {
      "cell_type": "markdown",
      "metadata": {
        "id": "5F7TxWs7UknS",
        "colab_type": "text"
      },
      "source": [
        "### RBN1"
      ]
    },
    {
      "cell_type": "code",
      "metadata": {
        "id": "GFOp4oz8IT31",
        "colab_type": "code",
        "outputId": "b6eb5dd7-db78-4458-e5bb-bf2e2df5d283",
        "colab": {
          "base_uri": "https://localhost:8080/",
          "height": 204
        }
      },
      "source": [
        "#RBM 1\n",
        "BATCH_SIZE = 300\n",
        "VISIBLE_UNITS = 784  # 28 x 28 images\n",
        "HIDDEN_UNITS = 500\n",
        "CD_K = 2\n",
        "EPOCHS = 10\n",
        "rbm = RBM(VISIBLE_UNITS, HIDDEN_UNITS, CD_K, use_cuda=CUDA)\n",
        "########## TRAINING RBM ##########\n",
        "print('Training RBM...')\n",
        "train_rbm(EPOCHS,train_loader,rbm,VISIBLE_UNITS)"
      ],
      "execution_count": 0,
      "outputs": [
        {
          "output_type": "stream",
          "text": [
            "Training RBM...\n",
            "Epoch Error (epoch=0): 3658332.7500\n",
            "Epoch Error (epoch=1): 1998634.8750\n",
            "Epoch Error (epoch=2): 1850227.7500\n",
            "Epoch Error (epoch=3): 1802715.2500\n",
            "Epoch Error (epoch=4): 1814810.6250\n",
            "Epoch Error (epoch=5): 1835410.8750\n",
            "Epoch Error (epoch=6): 1869499.2500\n",
            "Epoch Error (epoch=7): 1902424.1250\n",
            "Epoch Error (epoch=8): 1943025.7500\n",
            "Epoch Error (epoch=9): 1993747.1250\n"
          ],
          "name": "stdout"
        }
      ]
    },
    {
      "cell_type": "markdown",
      "metadata": {
        "id": "MTl699wrq5jK",
        "colab_type": "text"
      },
      "source": [
        "### RBN2"
      ]
    },
    {
      "cell_type": "code",
      "metadata": {
        "id": "RDFRN0XdKXE0",
        "colab_type": "code",
        "outputId": "14ba693d-155d-4311-c4e4-9e5ff06936f8",
        "colab": {
          "base_uri": "https://localhost:8080/",
          "height": 34
        }
      },
      "source": [
        "########## EXTRACT FEATURES OF PREVIOUS RBN ##########\n",
        "print('Extracting features...')\n",
        "\n",
        "train_features = np.zeros((len(train_dataset), HIDDEN_UNITS))\n",
        "train_labels = np.zeros(len(train_dataset))\n",
        "\n",
        "for i, (batch, labels) in enumerate(train_loader):\n",
        "    batch = batch.view(len(batch), VISIBLE_UNITS)  # flatten input data\n",
        "\n",
        "    if CUDA:\n",
        "        batch = batch.cuda()\n",
        "\n",
        "    train_features[i*BATCH_SIZE:i*BATCH_SIZE+len(batch)] = rbm.sample_hidden(batch).cpu().numpy()\n",
        "    train_labels[i*BATCH_SIZE:i*BATCH_SIZE+len(batch)] = labels.numpy()\n",
        "#\n",
        "#Prep data for RBN2\n",
        "tensor_y = torch.from_numpy(train_labels)\n",
        "tensor_x = torch.stack([torch.Tensor(i) for i in train_features]) # transform to torch tensors\n",
        "# tensor_y = torch.stack([torch.Tensor(i) for i in [train_labels]])\n",
        "my_dataset = torch.utils.data.TensorDataset(tensor_x,tensor_y) \n",
        "my_dataloader = torch.utils.data.DataLoader(my_dataset, batch_size=BATCH_SIZE)\n",
        "# tensor_y.shape"
      ],
      "execution_count": 0,
      "outputs": [
        {
          "output_type": "stream",
          "text": [
            "Extracting features...\n"
          ],
          "name": "stdout"
        }
      ]
    },
    {
      "cell_type": "code",
      "metadata": {
        "id": "cS7DRPcXM-4R",
        "colab_type": "code",
        "outputId": "89129db4-d652-48b7-db78-189c479bc0d3",
        "colab": {
          "base_uri": "https://localhost:8080/",
          "height": 204
        }
      },
      "source": [
        "def train_rbm_2(EPOCHS,train_loader,rbm,VISIBLE_UNITS):\n",
        "  for epoch in range(EPOCHS):\n",
        "      epoch_error = 0.0\n",
        "      for batch, _ in train_loader:\n",
        "#           batch = batch.view(len(batch), VISIBLE_UNITS)  # flatten input data\n",
        "          if CUDA:\n",
        "              batch = batch.cuda()\n",
        "          batch_error = rbm.contrastive_divergence(batch)\n",
        "          epoch_error += batch_error\n",
        "\n",
        "      print('Epoch Error (epoch=%d): %.4f' % (epoch, epoch_error))\n",
        "      \n",
        "BATCH_SIZE = 50\n",
        "VISIBLE_UNITS = 500  # 28 x 28 images\n",
        "HIDDEN_UNITS = 500\n",
        "CD_K = 2\n",
        "EPOCHS = 10\n",
        "rbm2 = RBM(VISIBLE_UNITS, HIDDEN_UNITS, CD_K, use_cuda=CUDA)\n",
        "########## TRAINING RBM ##########\n",
        "print('Training RBM...')\n",
        "train_rbm_2(EPOCHS,my_dataloader,rbm2,VISIBLE_UNITS)"
      ],
      "execution_count": 0,
      "outputs": [
        {
          "output_type": "stream",
          "text": [
            "Training RBM...\n",
            "Epoch Error (epoch=0): 3373277.5000\n",
            "Epoch Error (epoch=1): 2694158.7500\n",
            "Epoch Error (epoch=2): 2201942.7500\n",
            "Epoch Error (epoch=3): 1893600.1250\n",
            "Epoch Error (epoch=4): 1703827.6250\n",
            "Epoch Error (epoch=5): 1574179.2500\n",
            "Epoch Error (epoch=6): 1475032.3750\n",
            "Epoch Error (epoch=7): 1405237.8750\n",
            "Epoch Error (epoch=8): 1344130.0000\n",
            "Epoch Error (epoch=9): 1288003.6250\n"
          ],
          "name": "stdout"
        }
      ]
    },
    {
      "cell_type": "markdown",
      "metadata": {
        "id": "Ds7bXdabswPk",
        "colab_type": "text"
      },
      "source": [
        "###Fine tune using backprop"
      ]
    },
    {
      "cell_type": "code",
      "metadata": {
        "id": "9U1WRee_szIZ",
        "colab_type": "code",
        "outputId": "e3d2cd98-3498-42d1-fb64-e203696a3724",
        "colab": {
          "base_uri": "https://localhost:8080/",
          "height": 1734
        }
      },
      "source": [
        "import torch\n",
        "import torch.nn as nn\n",
        "import torchvision\n",
        "import torchvision.transforms as transforms\n",
        "\n",
        "\n",
        "# Device configuration\n",
        "device = torch.device('cuda' if torch.cuda.is_available() else 'cpu')\n",
        "\n",
        "# Hyper-parameters \n",
        "input_size = 784\n",
        "hidden_size = 500\n",
        "num_classes = 10\n",
        "num_epochs = 50\n",
        "batch_size = 500\n",
        "learning_rate = 0.001\n",
        "\n",
        "# Fully connected neural network with one hidden layer\n",
        "class NeuralNet(nn.Module):\n",
        "    def __init__(self, input_size, hidden_size, num_classes):\n",
        "        super(NeuralNet, self).__init__()\n",
        "        self.fc1 = nn.Linear(input_size, hidden_size) \n",
        "        self.relu = nn.ReLU()\n",
        "        self.fc2 = nn.Linear(hidden_size, num_classes)  \n",
        "        #Initialise with rbm weights\n",
        "#         with torch.no_grad():\n",
        "        self.fc1.weight = torch.nn.Parameter(torch.transpose(rbm.weights,0,1))\n",
        "    \n",
        "    def forward(self, x):\n",
        "        out = self.fc1(x)\n",
        "        out = self.relu(out)\n",
        "        out = self.fc2(out)\n",
        "        return out\n",
        "\n",
        "model = NeuralNet(input_size, hidden_size, num_classes).to(device)\n",
        "\n",
        "# Loss and optimizer\n",
        "criterion = nn.CrossEntropyLoss()\n",
        "optimizer = torch.optim.Adam(model.parameters(), lr=learning_rate)  \n",
        "\n",
        "# Train the model\n",
        "total_step = len(train_loader)\n",
        "for epoch in range(num_epochs):\n",
        "    for i, (images, labels) in enumerate(train_loader):  \n",
        "        # Move tensors to the configured device\n",
        "        images = images.reshape(-1, 28*28).to(device)\n",
        "        labels = labels.to(device)\n",
        "        \n",
        "        # Forward pass\n",
        "        outputs = model(images)\n",
        "        loss = criterion(outputs, labels)\n",
        "        \n",
        "        # Backward and optimize\n",
        "        optimizer.zero_grad()\n",
        "        loss.backward()\n",
        "        optimizer.step()\n",
        "        \n",
        "        if (i+1) % 100 == 0:\n",
        "            print ('Epoch [{}/{}], Step [{}/{}], Loss: {:.4f}' \n",
        "                   .format(epoch+1, num_epochs, i+1, total_step, loss.item()))\n",
        "\n",
        "# Test the model\n",
        "# In test phase, we don't need to compute gradients (for memory efficiency)\n",
        "with torch.no_grad():\n",
        "    correct = 0\n",
        "    total = 0\n",
        "    for images, labels in test_loader:\n",
        "        images = images.reshape(-1, 28*28).to(device)\n",
        "        labels = labels.to(device)\n",
        "        outputs = model(images)\n",
        "        _, predicted = torch.max(outputs.data, 1)\n",
        "        total += labels.size(0)\n",
        "        correct += (predicted == labels).sum().item()\n",
        "\n",
        "    print('Accuracy of the network on the 10000 test images: {} %'.format(100 * correct / total))\n",
        "\n",
        "# Save the model checkpoint\n",
        "torch.save(model.state_dict(), 'model.ckpt')"
      ],
      "execution_count": 0,
      "outputs": [
        {
          "output_type": "stream",
          "text": [
            "Epoch [1/50], Step [100/200], Loss: 0.1297\n",
            "Epoch [1/50], Step [200/200], Loss: 0.1098\n",
            "Epoch [2/50], Step [100/200], Loss: 0.0463\n",
            "Epoch [2/50], Step [200/200], Loss: 0.0641\n",
            "Epoch [3/50], Step [100/200], Loss: 0.0260\n",
            "Epoch [3/50], Step [200/200], Loss: 0.0424\n",
            "Epoch [4/50], Step [100/200], Loss: 0.0167\n",
            "Epoch [4/50], Step [200/200], Loss: 0.0276\n",
            "Epoch [5/50], Step [100/200], Loss: 0.0119\n",
            "Epoch [5/50], Step [200/200], Loss: 0.0168\n",
            "Epoch [6/50], Step [100/200], Loss: 0.0093\n",
            "Epoch [6/50], Step [200/200], Loss: 0.0103\n",
            "Epoch [7/50], Step [100/200], Loss: 0.0073\n",
            "Epoch [7/50], Step [200/200], Loss: 0.0069\n",
            "Epoch [8/50], Step [100/200], Loss: 0.0059\n",
            "Epoch [8/50], Step [200/200], Loss: 0.0049\n",
            "Epoch [9/50], Step [100/200], Loss: 0.0048\n",
            "Epoch [9/50], Step [200/200], Loss: 0.0037\n",
            "Epoch [10/50], Step [100/200], Loss: 0.0039\n",
            "Epoch [10/50], Step [200/200], Loss: 0.0029\n",
            "Epoch [11/50], Step [100/200], Loss: 0.0032\n",
            "Epoch [11/50], Step [200/200], Loss: 0.0024\n",
            "Epoch [12/50], Step [100/200], Loss: 0.0026\n",
            "Epoch [12/50], Step [200/200], Loss: 0.0019\n",
            "Epoch [13/50], Step [100/200], Loss: 0.0022\n",
            "Epoch [13/50], Step [200/200], Loss: 0.0016\n",
            "Epoch [14/50], Step [100/200], Loss: 0.0019\n",
            "Epoch [14/50], Step [200/200], Loss: 0.0013\n",
            "Epoch [15/50], Step [100/200], Loss: 0.0016\n",
            "Epoch [15/50], Step [200/200], Loss: 0.0011\n",
            "Epoch [16/50], Step [100/200], Loss: 0.0014\n",
            "Epoch [16/50], Step [200/200], Loss: 0.0009\n",
            "Epoch [17/50], Step [100/200], Loss: 0.0012\n",
            "Epoch [17/50], Step [200/200], Loss: 0.0008\n",
            "Epoch [18/50], Step [100/200], Loss: 0.0010\n",
            "Epoch [18/50], Step [200/200], Loss: 0.0007\n",
            "Epoch [19/50], Step [100/200], Loss: 0.0009\n",
            "Epoch [19/50], Step [200/200], Loss: 0.0006\n",
            "Epoch [20/50], Step [100/200], Loss: 0.0008\n",
            "Epoch [20/50], Step [200/200], Loss: 0.0005\n",
            "Epoch [21/50], Step [100/200], Loss: 0.0007\n",
            "Epoch [21/50], Step [200/200], Loss: 0.0004\n",
            "Epoch [22/50], Step [100/200], Loss: 0.0006\n",
            "Epoch [22/50], Step [200/200], Loss: 0.0004\n",
            "Epoch [23/50], Step [100/200], Loss: 0.0005\n",
            "Epoch [23/50], Step [200/200], Loss: 0.0003\n",
            "Epoch [24/50], Step [100/200], Loss: 0.0005\n",
            "Epoch [24/50], Step [200/200], Loss: 0.0003\n",
            "Epoch [25/50], Step [100/200], Loss: 0.0004\n",
            "Epoch [25/50], Step [200/200], Loss: 0.0003\n",
            "Epoch [26/50], Step [100/200], Loss: 0.0004\n",
            "Epoch [26/50], Step [200/200], Loss: 0.0002\n",
            "Epoch [27/50], Step [100/200], Loss: 0.0003\n",
            "Epoch [27/50], Step [200/200], Loss: 0.0002\n",
            "Epoch [28/50], Step [100/200], Loss: 0.0003\n",
            "Epoch [28/50], Step [200/200], Loss: 0.0002\n",
            "Epoch [29/50], Step [100/200], Loss: 0.0003\n",
            "Epoch [29/50], Step [200/200], Loss: 0.0002\n",
            "Epoch [30/50], Step [100/200], Loss: 0.0002\n",
            "Epoch [30/50], Step [200/200], Loss: 0.0001\n",
            "Epoch [31/50], Step [100/200], Loss: 0.0002\n",
            "Epoch [31/50], Step [200/200], Loss: 0.0001\n",
            "Epoch [32/50], Step [100/200], Loss: 0.0002\n",
            "Epoch [32/50], Step [200/200], Loss: 0.0001\n",
            "Epoch [33/50], Step [100/200], Loss: 0.0002\n",
            "Epoch [33/50], Step [200/200], Loss: 0.0001\n",
            "Epoch [34/50], Step [100/200], Loss: 0.0001\n",
            "Epoch [34/50], Step [200/200], Loss: 0.0001\n",
            "Epoch [35/50], Step [100/200], Loss: 0.0001\n",
            "Epoch [35/50], Step [200/200], Loss: 0.0001\n",
            "Epoch [36/50], Step [100/200], Loss: 0.0001\n",
            "Epoch [36/50], Step [200/200], Loss: 0.0001\n",
            "Epoch [37/50], Step [100/200], Loss: 0.0001\n",
            "Epoch [37/50], Step [200/200], Loss: 0.0001\n",
            "Epoch [38/50], Step [100/200], Loss: 0.0001\n",
            "Epoch [38/50], Step [200/200], Loss: 0.0001\n",
            "Epoch [39/50], Step [100/200], Loss: 0.0001\n",
            "Epoch [39/50], Step [200/200], Loss: 0.0000\n",
            "Epoch [40/50], Step [100/200], Loss: 0.0001\n",
            "Epoch [40/50], Step [200/200], Loss: 0.0000\n",
            "Epoch [41/50], Step [100/200], Loss: 0.0001\n",
            "Epoch [41/50], Step [200/200], Loss: 0.0000\n",
            "Epoch [42/50], Step [100/200], Loss: 0.0001\n",
            "Epoch [42/50], Step [200/200], Loss: 0.0000\n",
            "Epoch [43/50], Step [100/200], Loss: 0.0001\n",
            "Epoch [43/50], Step [200/200], Loss: 0.0000\n",
            "Epoch [44/50], Step [100/200], Loss: 0.0000\n",
            "Epoch [44/50], Step [200/200], Loss: 0.0000\n",
            "Epoch [45/50], Step [100/200], Loss: 0.0000\n",
            "Epoch [45/50], Step [200/200], Loss: 0.0000\n",
            "Epoch [46/50], Step [100/200], Loss: 0.0000\n",
            "Epoch [46/50], Step [200/200], Loss: 0.0000\n",
            "Epoch [47/50], Step [100/200], Loss: 0.0000\n",
            "Epoch [47/50], Step [200/200], Loss: 0.0000\n",
            "Epoch [48/50], Step [100/200], Loss: 0.0000\n",
            "Epoch [48/50], Step [200/200], Loss: 0.0000\n",
            "Epoch [49/50], Step [100/200], Loss: 0.0000\n",
            "Epoch [49/50], Step [200/200], Loss: 0.0000\n",
            "Epoch [50/50], Step [100/200], Loss: 0.0000\n",
            "Epoch [50/50], Step [200/200], Loss: 0.0000\n",
            "Accuracy of the network on the 10000 test images: 98.42 %\n"
          ],
          "name": "stdout"
        }
      ]
    }
  ]
}